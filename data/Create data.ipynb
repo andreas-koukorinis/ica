{
 "cells": [
  {
   "cell_type": "markdown",
   "metadata": {},
   "source": [
    "### Initilization\n",
    "\n",
    "The goal of this notebook is creating a mix of random variable distributions. According to the ICA model: X = AS, where A is the mixing matrix, S are the true sources and X is the mixture. Here we'll save all these matrices for posterior analysis."
   ]
  },
  {
   "cell_type": "code",
   "execution_count": 2,
   "metadata": {
    "collapsed": true
   },
   "outputs": [],
   "source": [
    "from __future__ import division\n",
    "import numpy as np\n",
    "import scipy.io\n",
    "from scipy import signal\n",
    "import sys\n",
    "\n",
    "import matplotlib.pyplot as plt\n",
    "import seaborn as sns\n",
    "%matplotlib inline"
   ]
  },
  {
   "cell_type": "code",
   "execution_count": 3,
   "metadata": {
    "collapsed": true
   },
   "outputs": [],
   "source": [
    "def is_invertible(a):\n",
    "    return a.shape[0] == a.shape[1] and np.linalg.matrix_rank(a) == a.shape[0]\n",
    "\n",
    "def get_mixture_mat(N=3):\n",
    "    while True:\n",
    "        A = np.random.random_sample((N, N)) + 1\n",
    "        # Be sure that we have an invertible matrix\n",
    "        if np.linalg.matrix_rank(A) == A.shape[0]:\n",
    "            return A"
   ]
  },
  {
   "cell_type": "markdown",
   "metadata": {},
   "source": [
    "### Creating distributions\n",
    "\n",
    "The task envolve creating 9 distributions of diferent types, with a diferent number of sources and with varied statistics (100, 1000 and 100k points). We should have at least one case with:\n",
    "\n",
    "- Temporal structure (such as sine, cosine). (only FOBI should work)\n",
    "- Nonlinear mixture of sources. (only non-linear ICA should perform fairly)\n",
    "- Noise. (so we can compare how ICA algorithms perform in this cenario)\n",
    "- Many sources, at least 7 (Jade should not perform well in this case, according to the theory)\n",
    "- Ill-conditioned mixture matrix. \n",
    "- Gaussian distribution (ICA won't like this)"
   ]
  },
  {
   "cell_type": "markdown",
   "metadata": {},
   "source": [
    "#### #01 - Laplace + Uniform\n",
    "\n",
    "Expectation: separation should occur without problems."
   ]
  },
  {
   "cell_type": "code",
   "execution_count": 4,
   "metadata": {
    "collapsed": false,
    "scrolled": true
   },
   "outputs": [],
   "source": [
    "np.random.seed(1)\n",
    "\n",
    "A = get_mixture_mat(N=2)\n",
    "scipy.io.savemat('A_01.mat', mdict={'A': A})\n",
    "\n",
    "for n_points in [100, 1000, 100000]:\n",
    "\n",
    "    s2 = np.random.laplace(0.5, 1, n_points)\n",
    "    s3 = np.random.uniform(-1, 1, n_points)\n",
    "\n",
    "    S = np.c_[s2, s3]\n",
    "    scipy.io.savemat('S_01.mat', mdict={'S': S})\n",
    "    # S += 0.2 * np.random.normal(size=S.shape)  # Add noise\n",
    "    # S /= S.std(axis=0)  # Standardize data\n",
    "    # Mix data\n",
    "    X = np.dot(S, A.T)\n",
    "    assert (X.shape == (n_points, 2))\n",
    "    scipy.io.savemat('X_01_%d.mat' % n_points, mdict={'X': X})"
   ]
  },
  {
   "cell_type": "markdown",
   "metadata": {},
   "source": [
    "#### #02 - Laplace + Uniform (A ill-conditioned)\n",
    "\n",
    "Expectation: don't really no."
   ]
  },
  {
   "cell_type": "code",
   "execution_count": 24,
   "metadata": {
    "collapsed": true
   },
   "outputs": [],
   "source": [
    "np.random.seed(2)\n",
    "\n",
    "A = get_mixture_mat(N=2)\n",
    "A[0][0] = 1e-2\n",
    "scipy.io.savemat('A_02.mat', mdict={'A': A})\n",
    "\n",
    "for n_points in [100, 1000, 100000]:\n",
    "\n",
    "    s2 = np.random.laplace(0.5, 1, n_points)\n",
    "    s3 = np.random.uniform(-1, 1, n_points)\n",
    "\n",
    "    S = np.c_[s2, s3]\n",
    "    scipy.io.savemat('S_02.mat', mdict={'S': S})\n",
    "    # S += 0.2 * np.random.normal(size=S.shape)  # Add noise\n",
    "    # S /= S.std(axis=0)  # Standardize data\n",
    "    # Mix data\n",
    "    X = np.dot(S, A.T)\n",
    "    assert (X.shape == (n_points, 2))\n",
    "    scipy.io.savemat('X_02_%d.mat' % n_points, mdict={'X': X})"
   ]
  },
  {
   "cell_type": "markdown",
   "metadata": {},
   "source": [
    "#### #03 - Gaussian + Laplace\n",
    "\n",
    "Expectation: separation should occur without problems. Although we have a Gaussian distribution, by elimination we should be able to find it."
   ]
  },
  {
   "cell_type": "code",
   "execution_count": 25,
   "metadata": {
    "collapsed": false
   },
   "outputs": [],
   "source": [
    "np.random.seed(3)\n",
    "\n",
    "A = get_mixture_mat(N=2)\n",
    "scipy.io.savemat('A_03.mat', mdict={'A': A})\n",
    "\n",
    "for n_points in [100, 1000, 100000]:\n",
    "\n",
    "    s2 = np.random.normal(0, 1, n_points)\n",
    "    s3 = np.random.laplace(0, 0.5, n_points)\n",
    "\n",
    "    S = np.c_[s2, s3]\n",
    "    scipy.io.savemat('S_03.mat', mdict={'S': S})\n",
    "    # S += 0.2 * np.random.normal(size=S.shape)  # Add noise\n",
    "    # S /= S.std(axis=0)  # Standardize data\n",
    "    # Mix data\n",
    "    X = np.dot(S, A.T)\n",
    "    assert (X.shape == (n_points, 2))\n",
    "    scipy.io.savemat('X_03_%d.mat' % n_points, mdict={'X': X})"
   ]
  },
  {
   "cell_type": "markdown",
   "metadata": {},
   "source": [
    "#### #04 - Laplace + Gaussian + Binomial\n",
    "\n",
    "Expectation: same as above."
   ]
  },
  {
   "cell_type": "code",
   "execution_count": 26,
   "metadata": {
    "collapsed": false
   },
   "outputs": [],
   "source": [
    "np.random.seed(4)\n",
    "\n",
    "A = get_mixture_mat(N=3)\n",
    "scipy.io.savemat('A_04.mat', mdict={'A': A})\n",
    "\n",
    "for n_points in [100, 1000, 100000]:\n",
    "\n",
    "    s1 = np.random.binomial(5, .5, n_points)\n",
    "    s2 = np.random.normal(0, 1, n_points)\n",
    "    s3 = np.random.laplace(0, 0.5, n_points)\n",
    "\n",
    "    S = np.c_[s1, s2, s3]\n",
    "    scipy.io.savemat('S_04.mat', mdict={'S': S})\n",
    "    # S += 0.2 * np.random.normal(size=S.shape)  # Add noise\n",
    "    # S /= S.std(axis=0)  # Standardize data\n",
    "    # Mix data\n",
    "    X = np.dot(S, A.T)\n",
    "    assert (X.shape == (n_points, 3))\n",
    "    scipy.io.savemat('X_04_%d.mat' % n_points, mdict={'X': X})"
   ]
  },
  {
   "cell_type": "markdown",
   "metadata": {},
   "source": [
    "#### #05 - L1 + ... + L7 (7 Laplaces)\n",
    "\n",
    "Expectation: separation should occur without problems, except for JADE."
   ]
  },
  {
   "cell_type": "code",
   "execution_count": 27,
   "metadata": {
    "collapsed": false
   },
   "outputs": [],
   "source": [
    "np.random.seed(5)\n",
    "\n",
    "A = get_mixture_mat(N=7)\n",
    "scipy.io.savemat('A_05.mat', mdict={'A': A})\n",
    "\n",
    "for n_points in [100, 1000, 100000]:\n",
    "\n",
    "    s1 = np.random.laplace(0, 0.5, n_points)\n",
    "    s2 = np.random.laplace(0, 1, n_points)\n",
    "    s3 = np.random.laplace(0, 3, n_points)\n",
    "    s4 = np.random.laplace(-1, 1, n_points)\n",
    "    s5 = np.random.laplace(-1, 2, n_points)\n",
    "    s6 = np.random.laplace(1, 1, n_points)\n",
    "    s7 = np.random.laplace(-1, 2, n_points)\n",
    "\n",
    "    S = np.c_[s1, s2, s3, s4, s5, s6, s7]\n",
    "    scipy.io.savemat('S_05.mat', mdict={'S': S})\n",
    "    # S += 0.2 * np.random.normal(size=S.shape)  # Add noise\n",
    "    # S /= S.std(axis=0)  # Standardize data\n",
    "    # Mix data\n",
    "    X = np.dot(S, A.T)\n",
    "    assert (X.shape == (n_points, 7))\n",
    "    scipy.io.savemat('X_05_%d.mat' % n_points, mdict={'X': X})"
   ]
  },
  {
   "cell_type": "markdown",
   "metadata": {},
   "source": [
    "#### #06 - Gaussian + Gaussian + Laplace\n",
    "\n",
    "Expectation: separation won't be possible."
   ]
  },
  {
   "cell_type": "code",
   "execution_count": 28,
   "metadata": {
    "collapsed": true
   },
   "outputs": [],
   "source": [
    "np.random.seed(6)\n",
    "\n",
    "A = get_mixture_mat(N=3)\n",
    "scipy.io.savemat('A_06.mat', mdict={'A': A})\n",
    "\n",
    "for n_points in [100, 1000, 100000]:\n",
    "\n",
    "    s1 = np.random.normal(0.5, 3, n_points)\n",
    "    s2 = np.random.normal(0, 1, n_points)\n",
    "    s3 = np.random.laplace(0, 0.5, n_points)\n",
    "\n",
    "    S = np.c_[s1, s2, s3]\n",
    "    scipy.io.savemat('S_06.mat', mdict={'S': S})\n",
    "    # S += 0.2 * np.random.normal(size=S.shape)  # Add noise\n",
    "    # S /= S.std(axis=0)  # Standardize data\n",
    "    # Mix data\n",
    "    X = np.dot(S, A.T)\n",
    "    assert (X.shape == (n_points, 3))\n",
    "    scipy.io.savemat('X_06_%d.mat' % n_points, mdict={'X': X})"
   ]
  },
  {
   "cell_type": "markdown",
   "metadata": {},
   "source": [
    "#### #07 - Laplace + (Uniform +noise)\n",
    "\n",
    "Expectation: don't really no."
   ]
  },
  {
   "cell_type": "code",
   "execution_count": 29,
   "metadata": {
    "collapsed": false
   },
   "outputs": [],
   "source": [
    "np.random.seed(7)\n",
    "\n",
    "A = get_mixture_mat(N=2)\n",
    "scipy.io.savemat('A_07.mat', mdict={'A': A})\n",
    "\n",
    "for n_points in [100, 1000, 100000]:\n",
    "    \n",
    "    s1 = np.random.laplace(0, 0.5, n_points)\n",
    "    s2 = np.random.uniform(0, 1, n_points) + 0.2*np.random.normal(size=n_points)\n",
    "    \n",
    "    S = np.c_[s1, s2]\n",
    "    scipy.io.savemat('S_07.mat', mdict={'S': S})\n",
    "    # S += 0.2 * np.random.normal(size=S.shape)  # Add noise\n",
    "    # S /= S.std(axis=0)  # Standardize data\n",
    "    # Mix data\n",
    "    X = np.dot(S, A.T)\n",
    "    assert (X.shape == (n_points, 2))\n",
    "    scipy.io.savemat('X_07_%d.mat' % n_points, mdict={'X': X})"
   ]
  },
  {
   "cell_type": "markdown",
   "metadata": {},
   "source": [
    "#### #08 - Temporal\n",
    "\n",
    "Expectation: only FOBI should work."
   ]
  },
  {
   "cell_type": "code",
   "execution_count": 30,
   "metadata": {
    "collapsed": false
   },
   "outputs": [],
   "source": [
    "np.random.seed(8)\n",
    "\n",
    "A = get_mixture_mat(N=3)\n",
    "scipy.io.savemat('A_08.mat', mdict={'A': A})\n",
    "\n",
    "for n_points in [100, 1000, 100000]:\n",
    "\n",
    "    time = np.linspace(0, 10, n_points)\n",
    "\n",
    "    s1 = np.sin(2 * np.pi * time)  # Signal 1 : sinusoidal signal\n",
    "    s2 = np.sign(np.sin(3 * time))  # Signal 2 : square signal\n",
    "    s3 = signal.sawtooth(2 * np.pi * time)  # Signal 3: saw tooth signal\n",
    "    \n",
    "    S = np.c_[s1, s2, s3]\n",
    "    scipy.io.savemat('S_08.mat', mdict={'S': S})\n",
    "\n",
    "    # Mix data\n",
    "    X = np.dot(S, A.T)\n",
    "    assert (X.shape == (n_points, 3))\n",
    "    scipy.io.savemat('X_08_%d.mat' % n_points, mdict={'X': X})"
   ]
  },
  {
   "cell_type": "markdown",
   "metadata": {},
   "source": [
    "#### #09 - Non-linear mixture of Laplace + Uniform"
   ]
  },
  {
   "cell_type": "code",
   "execution_count": 31,
   "metadata": {
    "collapsed": false
   },
   "outputs": [],
   "source": [
    "np.random.seed(9)\n",
    "\n",
    "G = np.array([\n",
    "        [lambda x: x**2, lambda x: np.tanh(x)],\n",
    "        [lambda x: x*np.tanh(x), lambda x: np.cosh(x)]\n",
    "    ]).reshape(2, 2)\n",
    "\n",
    "# X = G(S)\n",
    "\n",
    "for n_points in [100, 1000, 100000]:\n",
    "\n",
    "    s2 = np.random.laplace(0.5, 1, n_points)\n",
    "    s3 = np.random.uniform(-1, 1, n_points)\n",
    "\n",
    "    S = np.c_[s2, s3]\n",
    "    scipy.io.savemat('S_09.mat', mdict={'S': S})\n",
    "    \n",
    "    # S += 0.2 * np.random.normal(size=S.shape)  # Add noise\n",
    "    # S /= S.std(axis=0)  # Standardize data\n",
    "    # Mix data\n",
    "    # X = np.dot(S, A.T)\n",
    "    X = np.zeros((n_points, 2))\n",
    "    X[0] = G[0][0](S[0]) + G[1][0](S[1])\n",
    "    X[1] = G[0][1](S[0]) + G[1][1](S[1])\n",
    "    scipy.io.savemat('X_09_%d.mat' % n_points, mdict={'X': X})"
   ]
  }
 ],
 "metadata": {
  "kernelspec": {
   "display_name": "Python 3",
   "language": "python",
   "name": "python3"
  },
  "language_info": {
   "codemirror_mode": {
    "name": "ipython",
    "version": 3
   },
   "file_extension": ".py",
   "mimetype": "text/x-python",
   "name": "python",
   "nbconvert_exporter": "python",
   "pygments_lexer": "ipython3",
   "version": "3.5.1"
  }
 },
 "nbformat": 4,
 "nbformat_minor": 0
}
